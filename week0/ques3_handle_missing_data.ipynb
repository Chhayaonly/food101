{
 "cells": [
  {
   "cell_type": "code",
   "execution_count": 1,
   "id": "d0a050ea-f099-4f35-a8db-e3253f3bd796",
   "metadata": {},
   "outputs": [],
   "source": [
    "import pandas as pd"
   ]
  },
  {
   "cell_type": "code",
   "execution_count": 2,
   "id": "d75bc92a-b097-49ce-9fca-e9389e6695ab",
   "metadata": {},
   "outputs": [],
   "source": [
    "df= pd.read_csv('https://drive.usercontent.google.com/download?id=1QFJGdkhJClgTLr0u29WHF7yUuauw_z3A&export=download&authuser=0')"
   ]
  },
  {
   "cell_type": "code",
   "execution_count": 3,
   "id": "45f629f0-ea6b-4116-97a1-c4b8ff38c73d",
   "metadata": {},
   "outputs": [
    {
     "data": {
      "text/plain": [
       "0      False\n",
       "1      False\n",
       "2      False\n",
       "3      False\n",
       "4      False\n",
       "       ...  \n",
       "195    False\n",
       "196    False\n",
       "197    False\n",
       "198    False\n",
       "199    False\n",
       "Name: Student Name, Length: 200, dtype: bool"
      ]
     },
     "execution_count": 3,
     "metadata": {},
     "output_type": "execute_result"
    }
   ],
   "source": [
    "df['Student Name'].isnull()"
   ]
  },
  {
   "cell_type": "code",
   "execution_count": 4,
   "id": "8ba3fd8e-59c7-486b-ac92-dcc9924cb609",
   "metadata": {},
   "outputs": [
    {
     "data": {
      "text/plain": [
       "0      False\n",
       "1      False\n",
       "2      False\n",
       "3      False\n",
       "4      False\n",
       "       ...  \n",
       "195    False\n",
       "196    False\n",
       "197    False\n",
       "198    False\n",
       "199    False\n",
       "Name: Course, Length: 200, dtype: bool"
      ]
     },
     "execution_count": 4,
     "metadata": {},
     "output_type": "execute_result"
    }
   ],
   "source": [
    "df['Course'].isnull()"
   ]
  },
  {
   "cell_type": "code",
   "execution_count": 5,
   "id": "2447c879-bd6c-4c5d-8af9-8915bf2ddc7a",
   "metadata": {},
   "outputs": [
    {
     "data": {
      "text/plain": [
       "0      False\n",
       "1      False\n",
       "2      False\n",
       "3      False\n",
       "4      False\n",
       "       ...  \n",
       "195    False\n",
       "196    False\n",
       "197    False\n",
       "198    False\n",
       "199    False\n",
       "Name: Marks (%), Length: 200, dtype: bool"
      ]
     },
     "execution_count": 5,
     "metadata": {},
     "output_type": "execute_result"
    }
   ],
   "source": [
    "df['Marks (%)'].isnull()"
   ]
  },
  {
   "cell_type": "code",
   "execution_count": 6,
   "id": "161b1f96-6258-452b-b7a3-9fb43801557e",
   "metadata": {},
   "outputs": [
    {
     "data": {
      "text/plain": [
       "0      False\n",
       "1      False\n",
       "2      False\n",
       "3      False\n",
       "4      False\n",
       "       ...  \n",
       "195    False\n",
       "196    False\n",
       "197    False\n",
       "198    False\n",
       "199    False\n",
       "Name: Attendance (%), Length: 200, dtype: bool"
      ]
     },
     "execution_count": 6,
     "metadata": {},
     "output_type": "execute_result"
    }
   ],
   "source": [
    "df['Attendance (%)'].isnull()"
   ]
  },
  {
   "cell_type": "code",
   "execution_count": 7,
   "id": "cd30034e-ef3f-4c4b-aca2-14f3f189e655",
   "metadata": {
    "scrolled": true
   },
   "outputs": [],
   "source": [
    "df=df.dropna(axis=0,how='any',subset=['Course','Student Name'])\n"
   ]
  },
  {
   "cell_type": "code",
   "execution_count": 8,
   "id": "712d300f-d4c0-495e-bde7-9cce8badcbf7",
   "metadata": {},
   "outputs": [],
   "source": [
    "i=0\n",
    "for i in range(1,len(df)-1):\n",
    "    if pd.isna(df.iloc[i,2]):\n",
    "        above = df.iloc[i - 1,2]; below = df.iloc[i + 1,2]\n",
    "        df.iloc[i,2]=(float(above)+float(below))/2\n",
    "    if pd.isna(df.iloc[i,3]):\n",
    "        above = df.iloc[i - 1,3]; below = df.iloc[i + 1,3]\n",
    "        df.iloc[i,3]=(float(above)+float(below))/2  "
   ]
  },
  {
   "cell_type": "code",
   "execution_count": 9,
   "id": "ecb91f15-1acc-4e7f-8511-8427db064253",
   "metadata": {},
   "outputs": [],
   "source": [
    "df.to_csv('cleaned_IITK_Courses_Report.csv')\n"
   ]
  }
 ],
 "metadata": {
  "kernelspec": {
   "display_name": "Python (food101)",
   "language": "python",
   "name": "food101"
  },
  "language_info": {
   "codemirror_mode": {
    "name": "ipython",
    "version": 3
   },
   "file_extension": ".py",
   "mimetype": "text/x-python",
   "name": "python",
   "nbconvert_exporter": "python",
   "pygments_lexer": "ipython3",
   "version": "3.13.0"
  }
 },
 "nbformat": 4,
 "nbformat_minor": 5
}
