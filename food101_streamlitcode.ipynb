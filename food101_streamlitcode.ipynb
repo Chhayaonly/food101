{
  "nbformat": 4,
  "nbformat_minor": 0,
  "metadata": {
    "colab": {
      "provenance": [],
      "authorship_tag": "ABX9TyPkcnOeVpt1N08m9g5zgPml",
      "include_colab_link": true
    },
    "kernelspec": {
      "name": "python3",
      "display_name": "Python 3"
    },
    "language_info": {
      "name": "python"
    }
  },
  "cells": [
    {
      "cell_type": "markdown",
      "metadata": {
        "id": "view-in-github",
        "colab_type": "text"
      },
      "source": [
        "<a href=\"https://colab.research.google.com/github/Chhayaonly/food101/blob/main/food101_streamlitcode.ipynb\" target=\"_parent\"><img src=\"https://colab.research.google.com/assets/colab-badge.svg\" alt=\"Open In Colab\"/></a>"
      ]
    },
    {
      "cell_type": "code",
      "execution_count": 1,
      "metadata": {
        "colab": {
          "base_uri": "https://localhost:8080/",
          "height": 397
        },
        "id": "Xm-ooAfGTJck",
        "outputId": "5eaa01e0-7631-4bc0-d628-9039692843e7"
      },
      "outputs": [
        {
          "output_type": "error",
          "ename": "ModuleNotFoundError",
          "evalue": "No module named 'streamlit'",
          "traceback": [
            "\u001b[0;31m---------------------------------------------------------------------------\u001b[0m",
            "\u001b[0;31mModuleNotFoundError\u001b[0m                       Traceback (most recent call last)",
            "\u001b[0;32m<ipython-input-1-2e723f23a776>\u001b[0m in \u001b[0;36m<cell line: 1>\u001b[0;34m()\u001b[0m\n\u001b[0;32m----> 1\u001b[0;31m \u001b[0;32mimport\u001b[0m \u001b[0mstreamlit\u001b[0m \u001b[0;32mas\u001b[0m \u001b[0mst\u001b[0m\u001b[0;34m\u001b[0m\u001b[0;34m\u001b[0m\u001b[0m\n\u001b[0m\u001b[1;32m      2\u001b[0m \u001b[0;32mimport\u001b[0m \u001b[0mtensorflow\u001b[0m \u001b[0;32mas\u001b[0m \u001b[0mtf\u001b[0m\u001b[0;34m\u001b[0m\u001b[0;34m\u001b[0m\u001b[0m\n\u001b[1;32m      3\u001b[0m \u001b[0;32mfrom\u001b[0m \u001b[0mPIL\u001b[0m \u001b[0;32mimport\u001b[0m \u001b[0mImage\u001b[0m\u001b[0;34m\u001b[0m\u001b[0;34m\u001b[0m\u001b[0m\n\u001b[1;32m      4\u001b[0m \u001b[0;32mimport\u001b[0m \u001b[0mnumpy\u001b[0m \u001b[0;32mas\u001b[0m \u001b[0mnp\u001b[0m\u001b[0;34m\u001b[0m\u001b[0;34m\u001b[0m\u001b[0m\n\u001b[1;32m      5\u001b[0m \u001b[0;32mimport\u001b[0m \u001b[0mos\u001b[0m\u001b[0;34m\u001b[0m\u001b[0;34m\u001b[0m\u001b[0m\n",
            "\u001b[0;31mModuleNotFoundError\u001b[0m: No module named 'streamlit'",
            "",
            "\u001b[0;31m---------------------------------------------------------------------------\u001b[0;32m\nNOTE: If your import is failing due to a missing package, you can\nmanually install dependencies using either !pip or !apt.\n\nTo view examples of installing some common dependencies, click the\n\"Open Examples\" button below.\n\u001b[0;31m---------------------------------------------------------------------------\u001b[0m\n"
          ],
          "errorDetails": {
            "actions": [
              {
                "action": "open_url",
                "actionText": "Open Examples",
                "url": "/notebooks/snippets/importing_libraries.ipynb"
              }
            ]
          }
        }
      ],
      "source": [
        "import streamlit as st\n",
        "import tensorflow as tf\n",
        "from PIL import Image\n",
        "import numpy as np\n",
        "import os\n",
        "\n",
        "# Custom loss function to handle deserialization\n",
        "from tensorflow.keras.losses import SparseCategoricalCrossentropy\n",
        "\n",
        "class CustomSparseCategoricalCrossentropy(SparseCategoricalCrossentropy):\n",
        "    def __init__(self, reduction='auto', name='sparse_categorical_crossentropy', from_logits=False, ignore_class=None):\n",
        "        super().__init__(reduction=reduction, name=name, from_logits=from_logits, ignore_class=ignore_class)\n",
        "\n",
        "# Register the custom loss function\n",
        "tf.keras.utils.get_custom_objects().update({\n",
        "    'SparseCategoricalCrossentropy': CustomSparseCategoricalCrossentropy\n",
        "})\n",
        "\n",
        "# Set working directory and model path\n",
        "working_dir = os.path.dirname(os.path.abspath(__file__))\n",
        "model_path = os.path.join(working_dir, 'my food101model.h5')\n",
        "\n",
        "# Load the pre-trained model\n",
        "model = tf.keras.models.load_model(model_path, custom_objects={'SparseCategoricalCrossentropy': CustomSparseCategoricalCrossentropy})\n",
        "\n",
        "# Define class labels for Fashion MNIST dataset\n",
        "class_names = [\n",
        "        'burger', 'butter naan', 'chai', 'chapati', 'chole_bhature', 'dal makhani',\n",
        "        'dhokla', 'fried_rice', 'idli', 'jalebi', 'kathi roll', 'kadhai paneer',\n",
        "        'kulfi', 'butter naan', 'momos', 'paani puri', 'pakode', 'pav bhaji', 'pizza', 'samosa'\n",
        "    ]\n",
        "\n",
        "# Function to preprocess the uploaded image\n",
        "def preprocess_image(image):\n",
        "    img = Image.open(image)\n",
        "    img = img.resize((28, 28))\n",
        "    img = img.convert('L')  # Convert to grayscale\n",
        "    img_array = np.array(img) / 255.0\n",
        "    img_array = img_array.reshape((1, 28, 28, 1))\n",
        "    return img_array\n",
        "\n",
        "# Streamlit App\n",
        "st.title('BCS Food101')\n",
        "\n",
        "uploaded_image = st.file_uploader(\"Upload an image of a food item(Don't upload high quality images)\", type=[\"jpg\", \"jpeg\", \"png\"])\n",
        "\n",
        "if uploaded_image is not None:\n",
        "    image = Image.open(uploaded_image)\n",
        "    col1, col2 = st.columns(2)\n",
        "\n",
        "    with col1:\n",
        "        resized_img = image.resize((100, 100))\n",
        "        st.image(resized_img)\n",
        "\n",
        "    with col2:\n",
        "        if st.button('Classify'):\n",
        "            # Preprocess the uploaded image\n",
        "            img_array = preprocess_image(uploaded_image)\n",
        "\n",
        "            # Make a prediction using the pre-trained model\n",
        "            result = model.predict(img_array)\n",
        "            predicted_class = np.argmax(result)\n",
        "            prediction = class_names[predicted_class]\n",
        "\n",
        "            st.success(f'This is {prediction}')"
      ]
    },
    {
      "cell_type": "code",
      "source": [],
      "metadata": {
        "id": "zrgDmxeXtfaq"
      },
      "execution_count": null,
      "outputs": []
    }
  ]
}